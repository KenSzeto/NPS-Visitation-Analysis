{
 "cells": [
  {
   "cell_type": "markdown",
   "id": "e36aea6a",
   "metadata": {},
   "source": [
    "# 6.4 Supervised Machine Learning Regression\n",
    "\n",
    "## 00. Table of Contents\n",
    "01. Importing Libraries\n",
    "02. Importing Data\n",
    "03. Data Consistency Checks\n",
    "04. Merging Dataframes\n",
    "05. Dataprep for Regression Analysis\n",
    "06. Regression Analysis\n",
    "07. Rerunning Regression Analysis without 0 values"
   ]
  },
  {
   "cell_type": "markdown",
   "id": "861aca7b",
   "metadata": {},
   "source": [
    "## 01. Importing Libraries"
   ]
  },
  {
   "cell_type": "code",
   "execution_count": 1,
   "id": "62fb0d6a",
   "metadata": {},
   "outputs": [],
   "source": [
    "import pandas as pd\n",
    "import numpy as np\n",
    "import seaborn as sns\n",
    "import matplotlib\n",
    "import matplotlib.pyplot as plt\n",
    "import os\n",
    "import sklearn\n",
    "from sklearn.model_selection import train_test_split \n",
    "from sklearn.linear_model import LinearRegression\n",
    "from sklearn.metrics import mean_squared_error, r2_score"
   ]
  },
  {
   "cell_type": "code",
   "execution_count": 2,
   "id": "10b10339",
   "metadata": {},
   "outputs": [],
   "source": [
    "%matplotlib inline"
   ]
  },
  {
   "cell_type": "markdown",
   "id": "a41f7440",
   "metadata": {},
   "source": [
    "## 02. Importing Data"
   ]
  },
  {
   "cell_type": "code",
   "execution_count": 3,
   "id": "1fc528bf",
   "metadata": {},
   "outputs": [],
   "source": [
    "path = r'C:\\Users\\kensz\\OneDrive\\Desktop\\CF Data Analytics Course\\Achievment 6\\01-2023 NPS Analysis'"
   ]
  },
  {
   "cell_type": "code",
   "execution_count": 4,
   "id": "c4140214",
   "metadata": {},
   "outputs": [],
   "source": [
    "df_nps = pd.read_csv(os.path.join(path, '02 Data', 'Prepared', 'NPS_cleaned_data.csv'))"
   ]
  },
  {
   "cell_type": "code",
   "execution_count": 5,
   "id": "da1c082b",
   "metadata": {},
   "outputs": [],
   "source": [
    "#weather data on average monthly temperature for US States 2011-2021 provided by NOAA.\n",
    "\n",
    "df_noaa = pd.read_csv(os.path.join(path, '02 Data', 'Original', 'US Monthly Temperatures 2011-2021.csv'))"
   ]
  },
  {
   "cell_type": "markdown",
   "id": "4eadb325",
   "metadata": {},
   "source": [
    "## 03. Data Consistency Checks"
   ]
  },
  {
   "cell_type": "markdown",
   "id": "e0bc72ce",
   "metadata": {},
   "source": [
    "### df_nps checks"
   ]
  },
  {
   "cell_type": "code",
   "execution_count": 6,
   "id": "dddf0809",
   "metadata": {},
   "outputs": [
    {
     "data": {
      "text/plain": [
       "Index(['Data Grain', 'Park', 'Unit Code', 'Park Type', 'Region', 'State',\n",
       "       'Year', 'Month', 'Date', 'State-Date', 'Recreation Visits',\n",
       "       'Non-Recreation Visits', 'Recreation Hours', 'Non-Recreation Hours',\n",
       "       'Concessioner Lodging', 'Concessioner Camping', 'Tent Campers',\n",
       "       'RV Campers', 'Backcountry Campers', 'Non-Recreation Overnight Stays',\n",
       "       'Misc. Overnight Stays'],\n",
       "      dtype='object')"
      ]
     },
     "execution_count": 6,
     "metadata": {},
     "output_type": "execute_result"
    }
   ],
   "source": [
    "df_nps.columns"
   ]
  },
  {
   "cell_type": "code",
   "execution_count": 7,
   "id": "7115020b",
   "metadata": {},
   "outputs": [
    {
     "data": {
      "text/plain": [
       "Data Grain                        0\n",
       "Park                              0\n",
       "Unit Code                         0\n",
       "Park Type                         0\n",
       "Region                            0\n",
       "State                             0\n",
       "Year                              0\n",
       "Month                             0\n",
       "Date                              0\n",
       "State-Date                        0\n",
       "Recreation Visits                 0\n",
       "Non-Recreation Visits             0\n",
       "Recreation Hours                  0\n",
       "Non-Recreation Hours              0\n",
       "Concessioner Lodging              0\n",
       "Concessioner Camping              0\n",
       "Tent Campers                      0\n",
       "RV Campers                        0\n",
       "Backcountry Campers               0\n",
       "Non-Recreation Overnight Stays    0\n",
       "Misc. Overnight Stays             0\n",
       "dtype: int64"
      ]
     },
     "execution_count": 7,
     "metadata": {},
     "output_type": "execute_result"
    }
   ],
   "source": [
    "df_nps.isnull().sum()"
   ]
  },
  {
   "cell_type": "code",
   "execution_count": 8,
   "id": "2b37f692",
   "metadata": {},
   "outputs": [],
   "source": [
    "nps_dups = df_nps.duplicated()"
   ]
  },
  {
   "cell_type": "code",
   "execution_count": 9,
   "id": "db3e1fcc",
   "metadata": {},
   "outputs": [
    {
     "data": {
      "text/plain": [
       "(49552,)"
      ]
     },
     "execution_count": 9,
     "metadata": {},
     "output_type": "execute_result"
    }
   ],
   "source": [
    "nps_dups.shape"
   ]
  },
  {
   "cell_type": "markdown",
   "id": "fce3a0ca",
   "metadata": {},
   "source": [
    "### df_noaa checks"
   ]
  },
  {
   "cell_type": "code",
   "execution_count": 10,
   "id": "a45eaa04",
   "metadata": {},
   "outputs": [
    {
     "data": {
      "text/plain": [
       "Index(['State', 'Date', 'State-Date', 'Monthly Avg Temp'], dtype='object')"
      ]
     },
     "execution_count": 10,
     "metadata": {},
     "output_type": "execute_result"
    }
   ],
   "source": [
    "df_noaa.columns"
   ]
  },
  {
   "cell_type": "code",
   "execution_count": 11,
   "id": "4aa58cd8",
   "metadata": {},
   "outputs": [
    {
     "data": {
      "text/plain": [
       "State               0\n",
       "Date                0\n",
       "State-Date          0\n",
       "Monthly Avg Temp    0\n",
       "dtype: int64"
      ]
     },
     "execution_count": 11,
     "metadata": {},
     "output_type": "execute_result"
    }
   ],
   "source": [
    "df_noaa.isnull().sum()"
   ]
  },
  {
   "cell_type": "code",
   "execution_count": 12,
   "id": "3cf717e2",
   "metadata": {},
   "outputs": [],
   "source": [
    "noaa_dups = df_noaa.duplicated()"
   ]
  },
  {
   "cell_type": "code",
   "execution_count": 13,
   "id": "be13f23a",
   "metadata": {},
   "outputs": [
    {
     "data": {
      "text/plain": [
       "(6600,)"
      ]
     },
     "execution_count": 13,
     "metadata": {},
     "output_type": "execute_result"
    }
   ],
   "source": [
    "noaa_dups.shape"
   ]
  },
  {
   "cell_type": "markdown",
   "id": "dadc270b",
   "metadata": {},
   "source": [
    "## 04. Merging Dataframes"
   ]
  },
  {
   "cell_type": "code",
   "execution_count": 14,
   "id": "df1d1c1c",
   "metadata": {},
   "outputs": [
    {
     "data": {
      "text/html": [
       "<div>\n",
       "<style scoped>\n",
       "    .dataframe tbody tr th:only-of-type {\n",
       "        vertical-align: middle;\n",
       "    }\n",
       "\n",
       "    .dataframe tbody tr th {\n",
       "        vertical-align: top;\n",
       "    }\n",
       "\n",
       "    .dataframe thead th {\n",
       "        text-align: right;\n",
       "    }\n",
       "</style>\n",
       "<table border=\"1\" class=\"dataframe\">\n",
       "  <thead>\n",
       "    <tr style=\"text-align: right;\">\n",
       "      <th></th>\n",
       "      <th>Data Grain</th>\n",
       "      <th>Park</th>\n",
       "      <th>Unit Code</th>\n",
       "      <th>Park Type</th>\n",
       "      <th>Region</th>\n",
       "      <th>State</th>\n",
       "      <th>Year</th>\n",
       "      <th>Month</th>\n",
       "      <th>Date</th>\n",
       "      <th>State-Date</th>\n",
       "      <th>...</th>\n",
       "      <th>Non-Recreation Visits</th>\n",
       "      <th>Recreation Hours</th>\n",
       "      <th>Non-Recreation Hours</th>\n",
       "      <th>Concessioner Lodging</th>\n",
       "      <th>Concessioner Camping</th>\n",
       "      <th>Tent Campers</th>\n",
       "      <th>RV Campers</th>\n",
       "      <th>Backcountry Campers</th>\n",
       "      <th>Non-Recreation Overnight Stays</th>\n",
       "      <th>Misc. Overnight Stays</th>\n",
       "    </tr>\n",
       "  </thead>\n",
       "  <tbody>\n",
       "    <tr>\n",
       "      <th>0</th>\n",
       "      <td>ABLI-2011-01</td>\n",
       "      <td>Abraham Lincoln Birthplace NHP</td>\n",
       "      <td>ABLI</td>\n",
       "      <td>National Historical Park</td>\n",
       "      <td>Southeast</td>\n",
       "      <td>KY</td>\n",
       "      <td>2011</td>\n",
       "      <td>1</td>\n",
       "      <td>201101</td>\n",
       "      <td>KY-201101</td>\n",
       "      <td>...</td>\n",
       "      <td>0</td>\n",
       "      <td>2643</td>\n",
       "      <td>0</td>\n",
       "      <td>0</td>\n",
       "      <td>0</td>\n",
       "      <td>0</td>\n",
       "      <td>0</td>\n",
       "      <td>0</td>\n",
       "      <td>0</td>\n",
       "      <td>0</td>\n",
       "    </tr>\n",
       "    <tr>\n",
       "      <th>1</th>\n",
       "      <td>ABLI-2011-02</td>\n",
       "      <td>Abraham Lincoln Birthplace NHP</td>\n",
       "      <td>ABLI</td>\n",
       "      <td>National Historical Park</td>\n",
       "      <td>Southeast</td>\n",
       "      <td>KY</td>\n",
       "      <td>2011</td>\n",
       "      <td>2</td>\n",
       "      <td>201102</td>\n",
       "      <td>KY-201102</td>\n",
       "      <td>...</td>\n",
       "      <td>0</td>\n",
       "      <td>3647</td>\n",
       "      <td>0</td>\n",
       "      <td>0</td>\n",
       "      <td>0</td>\n",
       "      <td>0</td>\n",
       "      <td>0</td>\n",
       "      <td>0</td>\n",
       "      <td>0</td>\n",
       "      <td>0</td>\n",
       "    </tr>\n",
       "    <tr>\n",
       "      <th>2</th>\n",
       "      <td>ABLI-2011-03</td>\n",
       "      <td>Abraham Lincoln Birthplace NHP</td>\n",
       "      <td>ABLI</td>\n",
       "      <td>National Historical Park</td>\n",
       "      <td>Southeast</td>\n",
       "      <td>KY</td>\n",
       "      <td>2011</td>\n",
       "      <td>3</td>\n",
       "      <td>201103</td>\n",
       "      <td>KY-201103</td>\n",
       "      <td>...</td>\n",
       "      <td>0</td>\n",
       "      <td>7925</td>\n",
       "      <td>0</td>\n",
       "      <td>0</td>\n",
       "      <td>0</td>\n",
       "      <td>0</td>\n",
       "      <td>0</td>\n",
       "      <td>0</td>\n",
       "      <td>0</td>\n",
       "      <td>0</td>\n",
       "    </tr>\n",
       "    <tr>\n",
       "      <th>3</th>\n",
       "      <td>ABLI-2011-04</td>\n",
       "      <td>Abraham Lincoln Birthplace NHP</td>\n",
       "      <td>ABLI</td>\n",
       "      <td>National Historical Park</td>\n",
       "      <td>Southeast</td>\n",
       "      <td>KY</td>\n",
       "      <td>2011</td>\n",
       "      <td>4</td>\n",
       "      <td>201104</td>\n",
       "      <td>KY-201104</td>\n",
       "      <td>...</td>\n",
       "      <td>0</td>\n",
       "      <td>19339</td>\n",
       "      <td>0</td>\n",
       "      <td>0</td>\n",
       "      <td>0</td>\n",
       "      <td>0</td>\n",
       "      <td>0</td>\n",
       "      <td>0</td>\n",
       "      <td>0</td>\n",
       "      <td>0</td>\n",
       "    </tr>\n",
       "    <tr>\n",
       "      <th>4</th>\n",
       "      <td>ABLI-2011-05</td>\n",
       "      <td>Abraham Lincoln Birthplace NHP</td>\n",
       "      <td>ABLI</td>\n",
       "      <td>National Historical Park</td>\n",
       "      <td>Southeast</td>\n",
       "      <td>KY</td>\n",
       "      <td>2011</td>\n",
       "      <td>5</td>\n",
       "      <td>201105</td>\n",
       "      <td>KY-201105</td>\n",
       "      <td>...</td>\n",
       "      <td>0</td>\n",
       "      <td>16958</td>\n",
       "      <td>0</td>\n",
       "      <td>0</td>\n",
       "      <td>0</td>\n",
       "      <td>0</td>\n",
       "      <td>0</td>\n",
       "      <td>0</td>\n",
       "      <td>0</td>\n",
       "      <td>0</td>\n",
       "    </tr>\n",
       "  </tbody>\n",
       "</table>\n",
       "<p>5 rows × 21 columns</p>\n",
       "</div>"
      ],
      "text/plain": [
       "     Data Grain                            Park Unit Code  \\\n",
       "0  ABLI-2011-01  Abraham Lincoln Birthplace NHP      ABLI   \n",
       "1  ABLI-2011-02  Abraham Lincoln Birthplace NHP      ABLI   \n",
       "2  ABLI-2011-03  Abraham Lincoln Birthplace NHP      ABLI   \n",
       "3  ABLI-2011-04  Abraham Lincoln Birthplace NHP      ABLI   \n",
       "4  ABLI-2011-05  Abraham Lincoln Birthplace NHP      ABLI   \n",
       "\n",
       "                  Park Type      Region State  Year  Month    Date State-Date  \\\n",
       "0  National Historical Park  Southeast     KY  2011      1  201101  KY-201101   \n",
       "1  National Historical Park  Southeast     KY  2011      2  201102  KY-201102   \n",
       "2  National Historical Park  Southeast     KY  2011      3  201103  KY-201103   \n",
       "3  National Historical Park  Southeast     KY  2011      4  201104  KY-201104   \n",
       "4  National Historical Park  Southeast     KY  2011      5  201105  KY-201105   \n",
       "\n",
       "   ...  Non-Recreation Visits  Recreation Hours  Non-Recreation Hours  \\\n",
       "0  ...                      0              2643                     0   \n",
       "1  ...                      0              3647                     0   \n",
       "2  ...                      0              7925                     0   \n",
       "3  ...                      0             19339                     0   \n",
       "4  ...                      0             16958                     0   \n",
       "\n",
       "   Concessioner Lodging  Concessioner Camping  Tent Campers  RV Campers  \\\n",
       "0                     0                     0             0           0   \n",
       "1                     0                     0             0           0   \n",
       "2                     0                     0             0           0   \n",
       "3                     0                     0             0           0   \n",
       "4                     0                     0             0           0   \n",
       "\n",
       "   Backcountry Campers  Non-Recreation Overnight Stays  Misc. Overnight Stays  \n",
       "0                    0                               0                      0  \n",
       "1                    0                               0                      0  \n",
       "2                    0                               0                      0  \n",
       "3                    0                               0                      0  \n",
       "4                    0                               0                      0  \n",
       "\n",
       "[5 rows x 21 columns]"
      ]
     },
     "execution_count": 14,
     "metadata": {},
     "output_type": "execute_result"
    }
   ],
   "source": [
    "df_nps.head()"
   ]
  },
  {
   "cell_type": "code",
   "execution_count": 15,
   "id": "f9b3411d",
   "metadata": {},
   "outputs": [
    {
     "data": {
      "text/html": [
       "<div>\n",
       "<style scoped>\n",
       "    .dataframe tbody tr th:only-of-type {\n",
       "        vertical-align: middle;\n",
       "    }\n",
       "\n",
       "    .dataframe tbody tr th {\n",
       "        vertical-align: top;\n",
       "    }\n",
       "\n",
       "    .dataframe thead th {\n",
       "        text-align: right;\n",
       "    }\n",
       "</style>\n",
       "<table border=\"1\" class=\"dataframe\">\n",
       "  <thead>\n",
       "    <tr style=\"text-align: right;\">\n",
       "      <th></th>\n",
       "      <th>State</th>\n",
       "      <th>Date</th>\n",
       "      <th>State-Date</th>\n",
       "      <th>Monthly Avg Temp</th>\n",
       "    </tr>\n",
       "  </thead>\n",
       "  <tbody>\n",
       "    <tr>\n",
       "      <th>0</th>\n",
       "      <td>AK</td>\n",
       "      <td>201101</td>\n",
       "      <td>AK-201101</td>\n",
       "      <td>7.0</td>\n",
       "    </tr>\n",
       "    <tr>\n",
       "      <th>1</th>\n",
       "      <td>AK</td>\n",
       "      <td>201102</td>\n",
       "      <td>AK-201102</td>\n",
       "      <td>6.0</td>\n",
       "    </tr>\n",
       "    <tr>\n",
       "      <th>2</th>\n",
       "      <td>AK</td>\n",
       "      <td>201103</td>\n",
       "      <td>AK-201103</td>\n",
       "      <td>11.9</td>\n",
       "    </tr>\n",
       "    <tr>\n",
       "      <th>3</th>\n",
       "      <td>AK</td>\n",
       "      <td>201104</td>\n",
       "      <td>AK-201104</td>\n",
       "      <td>23.2</td>\n",
       "    </tr>\n",
       "    <tr>\n",
       "      <th>4</th>\n",
       "      <td>AK</td>\n",
       "      <td>201105</td>\n",
       "      <td>AK-201105</td>\n",
       "      <td>40.5</td>\n",
       "    </tr>\n",
       "  </tbody>\n",
       "</table>\n",
       "</div>"
      ],
      "text/plain": [
       "  State    Date State-Date  Monthly Avg Temp\n",
       "0    AK  201101  AK-201101               7.0\n",
       "1    AK  201102  AK-201102               6.0\n",
       "2    AK  201103  AK-201103              11.9\n",
       "3    AK  201104  AK-201104              23.2\n",
       "4    AK  201105  AK-201105              40.5"
      ]
     },
     "execution_count": 15,
     "metadata": {},
     "output_type": "execute_result"
    }
   ],
   "source": [
    "df_noaa.head()"
   ]
  },
  {
   "cell_type": "code",
   "execution_count": 16,
   "id": "315149e2",
   "metadata": {},
   "outputs": [],
   "source": [
    "df_nps_noaa = df_nps.merge(df_noaa, on = 'State-Date', indicator = True)"
   ]
  },
  {
   "cell_type": "code",
   "execution_count": 17,
   "id": "1feb6cf9",
   "metadata": {},
   "outputs": [
    {
     "data": {
      "text/html": [
       "<div>\n",
       "<style scoped>\n",
       "    .dataframe tbody tr th:only-of-type {\n",
       "        vertical-align: middle;\n",
       "    }\n",
       "\n",
       "    .dataframe tbody tr th {\n",
       "        vertical-align: top;\n",
       "    }\n",
       "\n",
       "    .dataframe thead th {\n",
       "        text-align: right;\n",
       "    }\n",
       "</style>\n",
       "<table border=\"1\" class=\"dataframe\">\n",
       "  <thead>\n",
       "    <tr style=\"text-align: right;\">\n",
       "      <th></th>\n",
       "      <th>Data Grain</th>\n",
       "      <th>Park</th>\n",
       "      <th>Unit Code</th>\n",
       "      <th>Park Type</th>\n",
       "      <th>Region</th>\n",
       "      <th>State_x</th>\n",
       "      <th>Year</th>\n",
       "      <th>Month</th>\n",
       "      <th>Date_x</th>\n",
       "      <th>State-Date</th>\n",
       "      <th>...</th>\n",
       "      <th>Concessioner Camping</th>\n",
       "      <th>Tent Campers</th>\n",
       "      <th>RV Campers</th>\n",
       "      <th>Backcountry Campers</th>\n",
       "      <th>Non-Recreation Overnight Stays</th>\n",
       "      <th>Misc. Overnight Stays</th>\n",
       "      <th>State_y</th>\n",
       "      <th>Date_y</th>\n",
       "      <th>Monthly Avg Temp</th>\n",
       "      <th>_merge</th>\n",
       "    </tr>\n",
       "  </thead>\n",
       "  <tbody>\n",
       "    <tr>\n",
       "      <th>0</th>\n",
       "      <td>ABLI-2011-01</td>\n",
       "      <td>Abraham Lincoln Birthplace NHP</td>\n",
       "      <td>ABLI</td>\n",
       "      <td>National Historical Park</td>\n",
       "      <td>Southeast</td>\n",
       "      <td>KY</td>\n",
       "      <td>2011</td>\n",
       "      <td>1</td>\n",
       "      <td>201101</td>\n",
       "      <td>KY-201101</td>\n",
       "      <td>...</td>\n",
       "      <td>0</td>\n",
       "      <td>0</td>\n",
       "      <td>0</td>\n",
       "      <td>0</td>\n",
       "      <td>0</td>\n",
       "      <td>0</td>\n",
       "      <td>KY</td>\n",
       "      <td>201101</td>\n",
       "      <td>30.2</td>\n",
       "      <td>both</td>\n",
       "    </tr>\n",
       "    <tr>\n",
       "      <th>1</th>\n",
       "      <td>CUGA-2011-01</td>\n",
       "      <td>Cumberland Gap NHP</td>\n",
       "      <td>CUGA</td>\n",
       "      <td>National Historical Park</td>\n",
       "      <td>Southeast</td>\n",
       "      <td>KY</td>\n",
       "      <td>2011</td>\n",
       "      <td>1</td>\n",
       "      <td>201101</td>\n",
       "      <td>KY-201101</td>\n",
       "      <td>...</td>\n",
       "      <td>0</td>\n",
       "      <td>0</td>\n",
       "      <td>0</td>\n",
       "      <td>63</td>\n",
       "      <td>0</td>\n",
       "      <td>0</td>\n",
       "      <td>KY</td>\n",
       "      <td>201101</td>\n",
       "      <td>30.2</td>\n",
       "      <td>both</td>\n",
       "    </tr>\n",
       "    <tr>\n",
       "      <th>2</th>\n",
       "      <td>MACA-2011-01</td>\n",
       "      <td>Mammoth Cave NP</td>\n",
       "      <td>MACA</td>\n",
       "      <td>National Park</td>\n",
       "      <td>Southeast</td>\n",
       "      <td>KY</td>\n",
       "      <td>2011</td>\n",
       "      <td>1</td>\n",
       "      <td>201101</td>\n",
       "      <td>KY-201101</td>\n",
       "      <td>...</td>\n",
       "      <td>0</td>\n",
       "      <td>56</td>\n",
       "      <td>24</td>\n",
       "      <td>83</td>\n",
       "      <td>0</td>\n",
       "      <td>0</td>\n",
       "      <td>KY</td>\n",
       "      <td>201101</td>\n",
       "      <td>30.2</td>\n",
       "      <td>both</td>\n",
       "    </tr>\n",
       "    <tr>\n",
       "      <th>3</th>\n",
       "      <td>ABLI-2011-02</td>\n",
       "      <td>Abraham Lincoln Birthplace NHP</td>\n",
       "      <td>ABLI</td>\n",
       "      <td>National Historical Park</td>\n",
       "      <td>Southeast</td>\n",
       "      <td>KY</td>\n",
       "      <td>2011</td>\n",
       "      <td>2</td>\n",
       "      <td>201102</td>\n",
       "      <td>KY-201102</td>\n",
       "      <td>...</td>\n",
       "      <td>0</td>\n",
       "      <td>0</td>\n",
       "      <td>0</td>\n",
       "      <td>0</td>\n",
       "      <td>0</td>\n",
       "      <td>0</td>\n",
       "      <td>KY</td>\n",
       "      <td>201102</td>\n",
       "      <td>39.1</td>\n",
       "      <td>both</td>\n",
       "    </tr>\n",
       "    <tr>\n",
       "      <th>4</th>\n",
       "      <td>CUGA-2011-02</td>\n",
       "      <td>Cumberland Gap NHP</td>\n",
       "      <td>CUGA</td>\n",
       "      <td>National Historical Park</td>\n",
       "      <td>Southeast</td>\n",
       "      <td>KY</td>\n",
       "      <td>2011</td>\n",
       "      <td>2</td>\n",
       "      <td>201102</td>\n",
       "      <td>KY-201102</td>\n",
       "      <td>...</td>\n",
       "      <td>0</td>\n",
       "      <td>0</td>\n",
       "      <td>0</td>\n",
       "      <td>21</td>\n",
       "      <td>0</td>\n",
       "      <td>0</td>\n",
       "      <td>KY</td>\n",
       "      <td>201102</td>\n",
       "      <td>39.1</td>\n",
       "      <td>both</td>\n",
       "    </tr>\n",
       "  </tbody>\n",
       "</table>\n",
       "<p>5 rows × 25 columns</p>\n",
       "</div>"
      ],
      "text/plain": [
       "     Data Grain                            Park Unit Code  \\\n",
       "0  ABLI-2011-01  Abraham Lincoln Birthplace NHP      ABLI   \n",
       "1  CUGA-2011-01              Cumberland Gap NHP      CUGA   \n",
       "2  MACA-2011-01                 Mammoth Cave NP      MACA   \n",
       "3  ABLI-2011-02  Abraham Lincoln Birthplace NHP      ABLI   \n",
       "4  CUGA-2011-02              Cumberland Gap NHP      CUGA   \n",
       "\n",
       "                  Park Type      Region State_x  Year  Month  Date_x  \\\n",
       "0  National Historical Park  Southeast       KY  2011      1  201101   \n",
       "1  National Historical Park  Southeast       KY  2011      1  201101   \n",
       "2             National Park  Southeast       KY  2011      1  201101   \n",
       "3  National Historical Park  Southeast       KY  2011      2  201102   \n",
       "4  National Historical Park  Southeast       KY  2011      2  201102   \n",
       "\n",
       "  State-Date  ...  Concessioner Camping  Tent Campers  RV Campers  \\\n",
       "0  KY-201101  ...                     0             0           0   \n",
       "1  KY-201101  ...                     0             0           0   \n",
       "2  KY-201101  ...                     0            56          24   \n",
       "3  KY-201102  ...                     0             0           0   \n",
       "4  KY-201102  ...                     0             0           0   \n",
       "\n",
       "   Backcountry Campers  Non-Recreation Overnight Stays  Misc. Overnight Stays  \\\n",
       "0                    0                               0                      0   \n",
       "1                   63                               0                      0   \n",
       "2                   83                               0                      0   \n",
       "3                    0                               0                      0   \n",
       "4                   21                               0                      0   \n",
       "\n",
       "   State_y  Date_y  Monthly Avg Temp  _merge  \n",
       "0       KY  201101              30.2    both  \n",
       "1       KY  201101              30.2    both  \n",
       "2       KY  201101              30.2    both  \n",
       "3       KY  201102              39.1    both  \n",
       "4       KY  201102              39.1    both  \n",
       "\n",
       "[5 rows x 25 columns]"
      ]
     },
     "execution_count": 17,
     "metadata": {},
     "output_type": "execute_result"
    }
   ],
   "source": [
    "df_nps_noaa.head()"
   ]
  },
  {
   "cell_type": "code",
   "execution_count": 18,
   "id": "348b53fd",
   "metadata": {},
   "outputs": [
    {
     "data": {
      "text/plain": [
       "both          45960\n",
       "left_only         0\n",
       "right_only        0\n",
       "Name: _merge, dtype: int64"
      ]
     },
     "execution_count": 18,
     "metadata": {},
     "output_type": "execute_result"
    }
   ],
   "source": [
    "df_nps_noaa['_merge'].value_counts()"
   ]
  },
  {
   "cell_type": "code",
   "execution_count": 22,
   "id": "109850f7",
   "metadata": {},
   "outputs": [],
   "source": [
    "#dropping unneccessary columns\n",
    "\n",
    "df_nps_noaa = df_nps_noaa.drop(columns = ['Date_x', 'State-Date', 'State_y', 'Date_y', '_merge'])\n"
   ]
  },
  {
   "cell_type": "code",
   "execution_count": 23,
   "id": "a3c76df5",
   "metadata": {},
   "outputs": [
    {
     "data": {
      "text/html": [
       "<div>\n",
       "<style scoped>\n",
       "    .dataframe tbody tr th:only-of-type {\n",
       "        vertical-align: middle;\n",
       "    }\n",
       "\n",
       "    .dataframe tbody tr th {\n",
       "        vertical-align: top;\n",
       "    }\n",
       "\n",
       "    .dataframe thead th {\n",
       "        text-align: right;\n",
       "    }\n",
       "</style>\n",
       "<table border=\"1\" class=\"dataframe\">\n",
       "  <thead>\n",
       "    <tr style=\"text-align: right;\">\n",
       "      <th></th>\n",
       "      <th>Data Grain</th>\n",
       "      <th>Park</th>\n",
       "      <th>Unit Code</th>\n",
       "      <th>Park Type</th>\n",
       "      <th>Region</th>\n",
       "      <th>State_x</th>\n",
       "      <th>Year</th>\n",
       "      <th>Month</th>\n",
       "      <th>Recreation Visits</th>\n",
       "      <th>Non-Recreation Visits</th>\n",
       "      <th>Recreation Hours</th>\n",
       "      <th>Non-Recreation Hours</th>\n",
       "      <th>Concessioner Lodging</th>\n",
       "      <th>Concessioner Camping</th>\n",
       "      <th>Tent Campers</th>\n",
       "      <th>RV Campers</th>\n",
       "      <th>Backcountry Campers</th>\n",
       "      <th>Non-Recreation Overnight Stays</th>\n",
       "      <th>Misc. Overnight Stays</th>\n",
       "      <th>Monthly Avg Temp</th>\n",
       "    </tr>\n",
       "  </thead>\n",
       "  <tbody>\n",
       "    <tr>\n",
       "      <th>0</th>\n",
       "      <td>ABLI-2011-01</td>\n",
       "      <td>Abraham Lincoln Birthplace NHP</td>\n",
       "      <td>ABLI</td>\n",
       "      <td>National Historical Park</td>\n",
       "      <td>Southeast</td>\n",
       "      <td>KY</td>\n",
       "      <td>2011</td>\n",
       "      <td>1</td>\n",
       "      <td>2643</td>\n",
       "      <td>0</td>\n",
       "      <td>2643</td>\n",
       "      <td>0</td>\n",
       "      <td>0</td>\n",
       "      <td>0</td>\n",
       "      <td>0</td>\n",
       "      <td>0</td>\n",
       "      <td>0</td>\n",
       "      <td>0</td>\n",
       "      <td>0</td>\n",
       "      <td>30.2</td>\n",
       "    </tr>\n",
       "    <tr>\n",
       "      <th>1</th>\n",
       "      <td>CUGA-2011-01</td>\n",
       "      <td>Cumberland Gap NHP</td>\n",
       "      <td>CUGA</td>\n",
       "      <td>National Historical Park</td>\n",
       "      <td>Southeast</td>\n",
       "      <td>KY</td>\n",
       "      <td>2011</td>\n",
       "      <td>1</td>\n",
       "      <td>39785</td>\n",
       "      <td>650766</td>\n",
       "      <td>50327</td>\n",
       "      <td>650766</td>\n",
       "      <td>0</td>\n",
       "      <td>0</td>\n",
       "      <td>0</td>\n",
       "      <td>0</td>\n",
       "      <td>63</td>\n",
       "      <td>0</td>\n",
       "      <td>0</td>\n",
       "      <td>30.2</td>\n",
       "    </tr>\n",
       "    <tr>\n",
       "      <th>2</th>\n",
       "      <td>MACA-2011-01</td>\n",
       "      <td>Mammoth Cave NP</td>\n",
       "      <td>MACA</td>\n",
       "      <td>National Park</td>\n",
       "      <td>Southeast</td>\n",
       "      <td>KY</td>\n",
       "      <td>2011</td>\n",
       "      <td>1</td>\n",
       "      <td>6889</td>\n",
       "      <td>11300</td>\n",
       "      <td>33275</td>\n",
       "      <td>11300</td>\n",
       "      <td>0</td>\n",
       "      <td>0</td>\n",
       "      <td>56</td>\n",
       "      <td>24</td>\n",
       "      <td>83</td>\n",
       "      <td>0</td>\n",
       "      <td>0</td>\n",
       "      <td>30.2</td>\n",
       "    </tr>\n",
       "    <tr>\n",
       "      <th>3</th>\n",
       "      <td>ABLI-2011-02</td>\n",
       "      <td>Abraham Lincoln Birthplace NHP</td>\n",
       "      <td>ABLI</td>\n",
       "      <td>National Historical Park</td>\n",
       "      <td>Southeast</td>\n",
       "      <td>KY</td>\n",
       "      <td>2011</td>\n",
       "      <td>2</td>\n",
       "      <td>3647</td>\n",
       "      <td>0</td>\n",
       "      <td>3647</td>\n",
       "      <td>0</td>\n",
       "      <td>0</td>\n",
       "      <td>0</td>\n",
       "      <td>0</td>\n",
       "      <td>0</td>\n",
       "      <td>0</td>\n",
       "      <td>0</td>\n",
       "      <td>0</td>\n",
       "      <td>39.1</td>\n",
       "    </tr>\n",
       "    <tr>\n",
       "      <th>4</th>\n",
       "      <td>CUGA-2011-02</td>\n",
       "      <td>Cumberland Gap NHP</td>\n",
       "      <td>CUGA</td>\n",
       "      <td>National Historical Park</td>\n",
       "      <td>Southeast</td>\n",
       "      <td>KY</td>\n",
       "      <td>2011</td>\n",
       "      <td>2</td>\n",
       "      <td>36010</td>\n",
       "      <td>488291</td>\n",
       "      <td>48136</td>\n",
       "      <td>488291</td>\n",
       "      <td>0</td>\n",
       "      <td>0</td>\n",
       "      <td>0</td>\n",
       "      <td>0</td>\n",
       "      <td>21</td>\n",
       "      <td>0</td>\n",
       "      <td>0</td>\n",
       "      <td>39.1</td>\n",
       "    </tr>\n",
       "  </tbody>\n",
       "</table>\n",
       "</div>"
      ],
      "text/plain": [
       "     Data Grain                            Park Unit Code  \\\n",
       "0  ABLI-2011-01  Abraham Lincoln Birthplace NHP      ABLI   \n",
       "1  CUGA-2011-01              Cumberland Gap NHP      CUGA   \n",
       "2  MACA-2011-01                 Mammoth Cave NP      MACA   \n",
       "3  ABLI-2011-02  Abraham Lincoln Birthplace NHP      ABLI   \n",
       "4  CUGA-2011-02              Cumberland Gap NHP      CUGA   \n",
       "\n",
       "                  Park Type      Region State_x  Year  Month  \\\n",
       "0  National Historical Park  Southeast       KY  2011      1   \n",
       "1  National Historical Park  Southeast       KY  2011      1   \n",
       "2             National Park  Southeast       KY  2011      1   \n",
       "3  National Historical Park  Southeast       KY  2011      2   \n",
       "4  National Historical Park  Southeast       KY  2011      2   \n",
       "\n",
       "   Recreation Visits  Non-Recreation Visits  Recreation Hours  \\\n",
       "0               2643                      0              2643   \n",
       "1              39785                 650766             50327   \n",
       "2               6889                  11300             33275   \n",
       "3               3647                      0              3647   \n",
       "4              36010                 488291             48136   \n",
       "\n",
       "   Non-Recreation Hours  Concessioner Lodging  Concessioner Camping  \\\n",
       "0                     0                     0                     0   \n",
       "1                650766                     0                     0   \n",
       "2                 11300                     0                     0   \n",
       "3                     0                     0                     0   \n",
       "4                488291                     0                     0   \n",
       "\n",
       "   Tent Campers  RV Campers  Backcountry Campers  \\\n",
       "0             0           0                    0   \n",
       "1             0           0                   63   \n",
       "2            56          24                   83   \n",
       "3             0           0                    0   \n",
       "4             0           0                   21   \n",
       "\n",
       "   Non-Recreation Overnight Stays  Misc. Overnight Stays  Monthly Avg Temp  \n",
       "0                               0                      0              30.2  \n",
       "1                               0                      0              30.2  \n",
       "2                               0                      0              30.2  \n",
       "3                               0                      0              39.1  \n",
       "4                               0                      0              39.1  "
      ]
     },
     "execution_count": 23,
     "metadata": {},
     "output_type": "execute_result"
    }
   ],
   "source": [
    "df_nps_noaa.head()"
   ]
  },
  {
   "cell_type": "code",
   "execution_count": 24,
   "id": "97d6f32a",
   "metadata": {},
   "outputs": [],
   "source": [
    "df_nps_noaa.rename(columns = {'State_x':'State'}, inplace = True)"
   ]
  },
  {
   "cell_type": "code",
   "execution_count": 25,
   "id": "42c9febc",
   "metadata": {},
   "outputs": [
    {
     "data": {
      "text/html": [
       "<div>\n",
       "<style scoped>\n",
       "    .dataframe tbody tr th:only-of-type {\n",
       "        vertical-align: middle;\n",
       "    }\n",
       "\n",
       "    .dataframe tbody tr th {\n",
       "        vertical-align: top;\n",
       "    }\n",
       "\n",
       "    .dataframe thead th {\n",
       "        text-align: right;\n",
       "    }\n",
       "</style>\n",
       "<table border=\"1\" class=\"dataframe\">\n",
       "  <thead>\n",
       "    <tr style=\"text-align: right;\">\n",
       "      <th></th>\n",
       "      <th>Data Grain</th>\n",
       "      <th>Park</th>\n",
       "      <th>Unit Code</th>\n",
       "      <th>Park Type</th>\n",
       "      <th>Region</th>\n",
       "      <th>State</th>\n",
       "      <th>Year</th>\n",
       "      <th>Month</th>\n",
       "      <th>Recreation Visits</th>\n",
       "      <th>Non-Recreation Visits</th>\n",
       "      <th>Recreation Hours</th>\n",
       "      <th>Non-Recreation Hours</th>\n",
       "      <th>Concessioner Lodging</th>\n",
       "      <th>Concessioner Camping</th>\n",
       "      <th>Tent Campers</th>\n",
       "      <th>RV Campers</th>\n",
       "      <th>Backcountry Campers</th>\n",
       "      <th>Non-Recreation Overnight Stays</th>\n",
       "      <th>Misc. Overnight Stays</th>\n",
       "      <th>Monthly Avg Temp</th>\n",
       "    </tr>\n",
       "  </thead>\n",
       "  <tbody>\n",
       "    <tr>\n",
       "      <th>0</th>\n",
       "      <td>ABLI-2011-01</td>\n",
       "      <td>Abraham Lincoln Birthplace NHP</td>\n",
       "      <td>ABLI</td>\n",
       "      <td>National Historical Park</td>\n",
       "      <td>Southeast</td>\n",
       "      <td>KY</td>\n",
       "      <td>2011</td>\n",
       "      <td>1</td>\n",
       "      <td>2643</td>\n",
       "      <td>0</td>\n",
       "      <td>2643</td>\n",
       "      <td>0</td>\n",
       "      <td>0</td>\n",
       "      <td>0</td>\n",
       "      <td>0</td>\n",
       "      <td>0</td>\n",
       "      <td>0</td>\n",
       "      <td>0</td>\n",
       "      <td>0</td>\n",
       "      <td>30.2</td>\n",
       "    </tr>\n",
       "    <tr>\n",
       "      <th>1</th>\n",
       "      <td>CUGA-2011-01</td>\n",
       "      <td>Cumberland Gap NHP</td>\n",
       "      <td>CUGA</td>\n",
       "      <td>National Historical Park</td>\n",
       "      <td>Southeast</td>\n",
       "      <td>KY</td>\n",
       "      <td>2011</td>\n",
       "      <td>1</td>\n",
       "      <td>39785</td>\n",
       "      <td>650766</td>\n",
       "      <td>50327</td>\n",
       "      <td>650766</td>\n",
       "      <td>0</td>\n",
       "      <td>0</td>\n",
       "      <td>0</td>\n",
       "      <td>0</td>\n",
       "      <td>63</td>\n",
       "      <td>0</td>\n",
       "      <td>0</td>\n",
       "      <td>30.2</td>\n",
       "    </tr>\n",
       "    <tr>\n",
       "      <th>2</th>\n",
       "      <td>MACA-2011-01</td>\n",
       "      <td>Mammoth Cave NP</td>\n",
       "      <td>MACA</td>\n",
       "      <td>National Park</td>\n",
       "      <td>Southeast</td>\n",
       "      <td>KY</td>\n",
       "      <td>2011</td>\n",
       "      <td>1</td>\n",
       "      <td>6889</td>\n",
       "      <td>11300</td>\n",
       "      <td>33275</td>\n",
       "      <td>11300</td>\n",
       "      <td>0</td>\n",
       "      <td>0</td>\n",
       "      <td>56</td>\n",
       "      <td>24</td>\n",
       "      <td>83</td>\n",
       "      <td>0</td>\n",
       "      <td>0</td>\n",
       "      <td>30.2</td>\n",
       "    </tr>\n",
       "    <tr>\n",
       "      <th>3</th>\n",
       "      <td>ABLI-2011-02</td>\n",
       "      <td>Abraham Lincoln Birthplace NHP</td>\n",
       "      <td>ABLI</td>\n",
       "      <td>National Historical Park</td>\n",
       "      <td>Southeast</td>\n",
       "      <td>KY</td>\n",
       "      <td>2011</td>\n",
       "      <td>2</td>\n",
       "      <td>3647</td>\n",
       "      <td>0</td>\n",
       "      <td>3647</td>\n",
       "      <td>0</td>\n",
       "      <td>0</td>\n",
       "      <td>0</td>\n",
       "      <td>0</td>\n",
       "      <td>0</td>\n",
       "      <td>0</td>\n",
       "      <td>0</td>\n",
       "      <td>0</td>\n",
       "      <td>39.1</td>\n",
       "    </tr>\n",
       "    <tr>\n",
       "      <th>4</th>\n",
       "      <td>CUGA-2011-02</td>\n",
       "      <td>Cumberland Gap NHP</td>\n",
       "      <td>CUGA</td>\n",
       "      <td>National Historical Park</td>\n",
       "      <td>Southeast</td>\n",
       "      <td>KY</td>\n",
       "      <td>2011</td>\n",
       "      <td>2</td>\n",
       "      <td>36010</td>\n",
       "      <td>488291</td>\n",
       "      <td>48136</td>\n",
       "      <td>488291</td>\n",
       "      <td>0</td>\n",
       "      <td>0</td>\n",
       "      <td>0</td>\n",
       "      <td>0</td>\n",
       "      <td>21</td>\n",
       "      <td>0</td>\n",
       "      <td>0</td>\n",
       "      <td>39.1</td>\n",
       "    </tr>\n",
       "  </tbody>\n",
       "</table>\n",
       "</div>"
      ],
      "text/plain": [
       "     Data Grain                            Park Unit Code  \\\n",
       "0  ABLI-2011-01  Abraham Lincoln Birthplace NHP      ABLI   \n",
       "1  CUGA-2011-01              Cumberland Gap NHP      CUGA   \n",
       "2  MACA-2011-01                 Mammoth Cave NP      MACA   \n",
       "3  ABLI-2011-02  Abraham Lincoln Birthplace NHP      ABLI   \n",
       "4  CUGA-2011-02              Cumberland Gap NHP      CUGA   \n",
       "\n",
       "                  Park Type      Region State  Year  Month  Recreation Visits  \\\n",
       "0  National Historical Park  Southeast     KY  2011      1               2643   \n",
       "1  National Historical Park  Southeast     KY  2011      1              39785   \n",
       "2             National Park  Southeast     KY  2011      1               6889   \n",
       "3  National Historical Park  Southeast     KY  2011      2               3647   \n",
       "4  National Historical Park  Southeast     KY  2011      2              36010   \n",
       "\n",
       "   Non-Recreation Visits  Recreation Hours  Non-Recreation Hours  \\\n",
       "0                      0              2643                     0   \n",
       "1                 650766             50327                650766   \n",
       "2                  11300             33275                 11300   \n",
       "3                      0              3647                     0   \n",
       "4                 488291             48136                488291   \n",
       "\n",
       "   Concessioner Lodging  Concessioner Camping  Tent Campers  RV Campers  \\\n",
       "0                     0                     0             0           0   \n",
       "1                     0                     0             0           0   \n",
       "2                     0                     0            56          24   \n",
       "3                     0                     0             0           0   \n",
       "4                     0                     0             0           0   \n",
       "\n",
       "   Backcountry Campers  Non-Recreation Overnight Stays  Misc. Overnight Stays  \\\n",
       "0                    0                               0                      0   \n",
       "1                   63                               0                      0   \n",
       "2                   83                               0                      0   \n",
       "3                    0                               0                      0   \n",
       "4                   21                               0                      0   \n",
       "\n",
       "   Monthly Avg Temp  \n",
       "0              30.2  \n",
       "1              30.2  \n",
       "2              30.2  \n",
       "3              39.1  \n",
       "4              39.1  "
      ]
     },
     "execution_count": 25,
     "metadata": {},
     "output_type": "execute_result"
    }
   ],
   "source": [
    "df_nps_noaa.head()"
   ]
  },
  {
   "cell_type": "code",
   "execution_count": 57,
   "id": "a0125194",
   "metadata": {},
   "outputs": [],
   "source": [
    "df_nps_noaa.to_csv(os.path.join(path, '02 Data', 'Prepared', 'nps_noaa_merged.csv'))"
   ]
  },
  {
   "cell_type": "markdown",
   "id": "852e3e94",
   "metadata": {},
   "source": [
    "## 05. Data prep for Regression Analysis"
   ]
  },
  {
   "cell_type": "markdown",
   "id": "0e2e2167",
   "metadata": {},
   "source": [
    "### Visual Exploration looking for relationships"
   ]
  },
  {
   "cell_type": "code",
   "execution_count": 26,
   "id": "bea2da61",
   "metadata": {},
   "outputs": [
    {
     "data": {
      "text/plain": [
       "<seaborn.axisgrid.FacetGrid at 0x21d02a0e580>"
      ]
     },
     "execution_count": 26,
     "metadata": {},
     "output_type": "execute_result"
    },
    {
     "data": {
      "image/png": "[encoded data removed]",
      "text/plain": [
       "<Figure size 500x500 with 1 Axes>"
      ]
     },
     "metadata": {},
     "output_type": "display_data"
    }
   ],
   "source": [
    "sns.lmplot(x = 'Monthly Avg Temp', y = 'Recreation Hours', data = df_nps_noaa)"
   ]
  },
  {
   "cell_type": "code",
   "execution_count": 27,
   "id": "aacb00f8",
   "metadata": {},
   "outputs": [
    {
     "data": {
      "text/plain": [
       "<seaborn.axisgrid.FacetGrid at 0x21d02a14940>"
      ]
     },
     "execution_count": 27,
     "metadata": {},
     "output_type": "execute_result"
    },
    {
     "data": {
      "image/png": "[encoded data removed]",
      "text/plain": [
       "<Figure size 500x500 with 1 Axes>"
      ]
     },
     "metadata": {},
     "output_type": "display_data"
    }
   ],
   "source": [
    "sns.lmplot(x = 'Monthly Avg Temp', y = 'Tent Campers', data = df_nps_noaa)"
   ]
  },
  {
   "cell_type": "code",
   "execution_count": 28,
   "id": "c503ad33",
   "metadata": {},
   "outputs": [
    {
     "data": {
      "text/plain": [
       "<seaborn.axisgrid.FacetGrid at 0x21d09618be0>"
      ]
     },
     "execution_count": 28,
     "metadata": {},
     "output_type": "execute_result"
    },
    {
     "data": {
      "image/png": "[encoded data removed]",
      "text/plain": [
       "<Figure size 500x500 with 1 Axes>"
      ]
     },
     "metadata": {},
     "output_type": "display_data"
    }
   ],
   "source": [
    "sns.lmplot(x = 'Month', y = 'Monthly Avg Temp', data = df_nps_noaa)"
   ]
  },
  {
   "cell_type": "markdown",
   "id": "7b0b762e",
   "metadata": {},
   "source": [
    "Hypothesis to test: As monthly average temperature increaes the number of tent campers also increases."
   ]
  },
  {
   "cell_type": "code",
   "execution_count": 29,
   "id": "c5db6e42",
   "metadata": {},
   "outputs": [],
   "source": [
    "X = df_nps_noaa['Monthly Avg Temp'].values.reshape(-1,1)\n",
    "y = df_nps_noaa['Tent Campers'].values.reshape(-1,1)"
   ]
  },
  {
   "cell_type": "code",
   "execution_count": 30,
   "id": "de9ecdef",
   "metadata": {},
   "outputs": [
    {
     "data": {
      "text/plain": [
       "array([[30.2],\n",
       "       [30.2],\n",
       "       [30.2],\n",
       "       ...,\n",
       "       [56.8],\n",
       "       [41. ],\n",
       "       [37. ]])"
      ]
     },
     "execution_count": 30,
     "metadata": {},
     "output_type": "execute_result"
    }
   ],
   "source": [
    "X"
   ]
  },
  {
   "cell_type": "code",
   "execution_count": 31,
   "id": "88dd7024",
   "metadata": {},
   "outputs": [
    {
     "data": {
      "text/plain": [
       "array([[ 0],\n",
       "       [ 0],\n",
       "       [56],\n",
       "       ...,\n",
       "       [ 0],\n",
       "       [ 0],\n",
       "       [ 0]], dtype=int64)"
      ]
     },
     "execution_count": 31,
     "metadata": {},
     "output_type": "execute_result"
    }
   ],
   "source": [
    "y"
   ]
  },
  {
   "cell_type": "code",
   "execution_count": 32,
   "id": "dc84dc5a",
   "metadata": {},
   "outputs": [],
   "source": [
    "X_train, X_test, y_train, y_test = train_test_split(X, y, test_size=0.3, random_state=0)"
   ]
  },
  {
   "cell_type": "markdown",
   "id": "cdb66818",
   "metadata": {},
   "source": [
    "## 06. Regression Analysis"
   ]
  },
  {
   "cell_type": "code",
   "execution_count": 33,
   "id": "26a0350d",
   "metadata": {},
   "outputs": [],
   "source": [
    "regression = LinearRegression()"
   ]
  },
  {
   "cell_type": "code",
   "execution_count": 34,
   "id": "ffd8ba76",
   "metadata": {},
   "outputs": [
    {
     "data": {
      "text/plain": [
       "LinearRegression()"
      ]
     },
     "execution_count": 34,
     "metadata": {},
     "output_type": "execute_result"
    }
   ],
   "source": [
    "regression.fit(X_train, y_train)"
   ]
  },
  {
   "cell_type": "code",
   "execution_count": 35,
   "id": "84f33c42",
   "metadata": {},
   "outputs": [],
   "source": [
    "y_predicted = regression.predict(X_test)"
   ]
  },
  {
   "cell_type": "code",
   "execution_count": 37,
   "id": "8e270905",
   "metadata": {},
   "outputs": [
    {
     "data": {
      "image/png": "[encoded data removed]",
      "text/plain": [
       "<Figure size 640x480 with 1 Axes>"
      ]
     },
     "metadata": {},
     "output_type": "display_data"
    }
   ],
   "source": [
    "plot_test = plt\n",
    "plot_test.scatter(X_test, y_test, color='gray', s = 15)\n",
    "plot_test.plot(X_test, y_predicted, color='red', linewidth =3)\n",
    "plot_test.title('Average Monthly Temperature vs Tent Campers (Test set)')\n",
    "plot_test.xlabel('Average Monthly Temperature')\n",
    "plot_test.ylabel('Tent Campers')\n",
    "plot_test.show()"
   ]
  },
  {
   "cell_type": "markdown",
   "id": "4982c152",
   "metadata": {},
   "source": [
    "I do not believe this regression line accurately represents the trends. To the naked eye, there appears to be a curve in the line. Therefore, the trend is not linear and it is more likely logarithmic. Additionally, there are a number of 0 values that might be skewing the data lower."
   ]
  },
  {
   "cell_type": "code",
   "execution_count": 38,
   "id": "d42f02b5",
   "metadata": {},
   "outputs": [],
   "source": [
    "rmse = mean_squared_error(y_test, y_predicted)\n",
    "r2 = r2_score(y_test, y_predicted)"
   ]
  },
  {
   "cell_type": "code",
   "execution_count": 39,
   "id": "68532864",
   "metadata": {},
   "outputs": [
    {
     "data": {
      "text/plain": [
       "20043862.905580062"
      ]
     },
     "execution_count": 39,
     "metadata": {},
     "output_type": "execute_result"
    }
   ],
   "source": [
    "rmse"
   ]
  },
  {
   "cell_type": "code",
   "execution_count": 40,
   "id": "ccc3669e",
   "metadata": {},
   "outputs": [
    {
     "data": {
      "text/plain": [
       "0.013594721350417172"
      ]
     },
     "execution_count": 40,
     "metadata": {},
     "output_type": "execute_result"
    }
   ],
   "source": [
    "r2"
   ]
  },
  {
   "cell_type": "code",
   "execution_count": 43,
   "id": "0d596b56",
   "metadata": {},
   "outputs": [
    {
     "data": {
      "text/html": [
       "<div>\n",
       "<style scoped>\n",
       "    .dataframe tbody tr th:only-of-type {\n",
       "        vertical-align: middle;\n",
       "    }\n",
       "\n",
       "    .dataframe tbody tr th {\n",
       "        vertical-align: top;\n",
       "    }\n",
       "\n",
       "    .dataframe thead th {\n",
       "        text-align: right;\n",
       "    }\n",
       "</style>\n",
       "<table border=\"1\" class=\"dataframe\">\n",
       "  <thead>\n",
       "    <tr style=\"text-align: right;\">\n",
       "      <th></th>\n",
       "      <th>Actual</th>\n",
       "      <th>Predicted</th>\n",
       "    </tr>\n",
       "  </thead>\n",
       "  <tbody>\n",
       "    <tr>\n",
       "      <th>0</th>\n",
       "      <td>0</td>\n",
       "      <td>713.032476</td>\n",
       "    </tr>\n",
       "    <tr>\n",
       "      <th>1</th>\n",
       "      <td>783</td>\n",
       "      <td>1460.602792</td>\n",
       "    </tr>\n",
       "    <tr>\n",
       "      <th>2</th>\n",
       "      <td>0</td>\n",
       "      <td>815.331572</td>\n",
       "    </tr>\n",
       "    <tr>\n",
       "      <th>3</th>\n",
       "      <td>0</td>\n",
       "      <td>896.646238</td>\n",
       "    </tr>\n",
       "    <tr>\n",
       "      <th>4</th>\n",
       "      <td>0</td>\n",
       "      <td>652.702240</td>\n",
       "    </tr>\n",
       "  </tbody>\n",
       "</table>\n",
       "</div>"
      ],
      "text/plain": [
       "   Actual    Predicted\n",
       "0       0   713.032476\n",
       "1     783  1460.602792\n",
       "2       0   815.331572\n",
       "3       0   896.646238\n",
       "4       0   652.702240"
      ]
     },
     "execution_count": 43,
     "metadata": {},
     "output_type": "execute_result"
    }
   ],
   "source": [
    "data = pd.DataFrame({'Actual': y_test.flatten(), 'Predicted': y_predicted.flatten()})\n",
    "data.head()"
   ]
  },
  {
   "cell_type": "markdown",
   "id": "da3aea45",
   "metadata": {},
   "source": [
    "This regression analysis was wildly inaccurate. I believe there were two many 0 values to accurately analyze the information. I am going, to rerun this analysis without the 0's."
   ]
  },
  {
   "cell_type": "markdown",
   "id": "a4b2c19a",
   "metadata": {},
   "source": [
    "## 07. Rerunning Regression without 0's"
   ]
  },
  {
   "cell_type": "code",
   "execution_count": 44,
   "id": "0c30cfee",
   "metadata": {},
   "outputs": [],
   "source": [
    "df_camping = df_nps_noaa[df_nps_noaa['Tent Campers']>0]"
   ]
  },
  {
   "cell_type": "code",
   "execution_count": 45,
   "id": "8f93b781",
   "metadata": {},
   "outputs": [
    {
     "data": {
      "text/plain": [
       "(9906, 20)"
      ]
     },
     "execution_count": 45,
     "metadata": {},
     "output_type": "execute_result"
    }
   ],
   "source": [
    "df_camping.shape"
   ]
  },
  {
   "cell_type": "code",
   "execution_count": 46,
   "id": "dda06b42",
   "metadata": {},
   "outputs": [],
   "source": [
    "X2 = df_camping['Monthly Avg Temp'].values.reshape(-1,1)\n",
    "y2 = df_camping['Tent Campers'].values.reshape(-1,1)"
   ]
  },
  {
   "cell_type": "code",
   "execution_count": 47,
   "id": "ce8d7ecb",
   "metadata": {},
   "outputs": [
    {
     "data": {
      "text/plain": [
       "array([[30.2],\n",
       "       [39.1],\n",
       "       [47.9],\n",
       "       ...,\n",
       "       [65.8],\n",
       "       [58.4],\n",
       "       [47. ]])"
      ]
     },
     "execution_count": 47,
     "metadata": {},
     "output_type": "execute_result"
    }
   ],
   "source": [
    "X2"
   ]
  },
  {
   "cell_type": "code",
   "execution_count": 48,
   "id": "0eb24bfd",
   "metadata": {},
   "outputs": [
    {
     "data": {
      "text/plain": [
       "array([[ 56],\n",
       "       [132],\n",
       "       [ 92],\n",
       "       ...,\n",
       "       [414],\n",
       "       [420],\n",
       "       [180]], dtype=int64)"
      ]
     },
     "execution_count": 48,
     "metadata": {},
     "output_type": "execute_result"
    }
   ],
   "source": [
    "y2"
   ]
  },
  {
   "cell_type": "code",
   "execution_count": 49,
   "id": "8f8a28b5",
   "metadata": {},
   "outputs": [],
   "source": [
    "X2_train, X2_test, y2_train, y2_test = train_test_split(X2, y2, test_size=0.3, random_state=0)"
   ]
  },
  {
   "cell_type": "code",
   "execution_count": 50,
   "id": "cbda350b",
   "metadata": {},
   "outputs": [
    {
     "data": {
      "text/plain": [
       "LinearRegression()"
      ]
     },
     "execution_count": 50,
     "metadata": {},
     "output_type": "execute_result"
    }
   ],
   "source": [
    "regression.fit(X2_train, y2_train)"
   ]
  },
  {
   "cell_type": "code",
   "execution_count": 51,
   "id": "2a14f6e4",
   "metadata": {},
   "outputs": [],
   "source": [
    "y2_predicted = regression.predict(X2_test)"
   ]
  },
  {
   "cell_type": "code",
   "execution_count": 52,
   "id": "e39c26c2",
   "metadata": {},
   "outputs": [
    {
     "data": {
      "image/png": "[encoded data removed]",
      "text/plain": [
       "<Figure size 640x480 with 1 Axes>"
      ]
     },
     "metadata": {},
     "output_type": "display_data"
    }
   ],
   "source": [
    "plot_test = plt\n",
    "plot_test.scatter(X2_test, y2_test, color='gray', s = 15)\n",
    "plot_test.plot(X2_test, y2_predicted, color='red', linewidth =3)\n",
    "plot_test.title('Average Monthly Temperature vs Tent Campers (Test set)')\n",
    "plot_test.xlabel('Average Monthly Temperature')\n",
    "plot_test.ylabel('Tent Campers')\n",
    "plot_test.show()"
   ]
  },
  {
   "cell_type": "markdown",
   "id": "618195c0",
   "metadata": {},
   "source": [
    "This graph looks slightly more accurate, however it still does not look like a fully accurate prediction. In this version of the chart, the curve of the points is more noticeable. Thinking about the data it makes sense that this would be a logarithmic pattern more than a linear one. Higher temperatures are only desirable to a certain degree. If this pattern were linear 120 degrees would be more desirable for camping than 75 degrees. "
   ]
  },
  {
   "cell_type": "code",
   "execution_count": 53,
   "id": "fddb164a",
   "metadata": {},
   "outputs": [],
   "source": [
    "rmse2 = mean_squared_error(y2_test, y2_predicted)\n",
    "r2_2 = r2_score(y2_test, y2_predicted)"
   ]
  },
  {
   "cell_type": "code",
   "execution_count": 54,
   "id": "c52f3b96",
   "metadata": {},
   "outputs": [
    {
     "data": {
      "text/plain": [
       "59611822.04092514"
      ]
     },
     "execution_count": 54,
     "metadata": {},
     "output_type": "execute_result"
    }
   ],
   "source": [
    "rmse2"
   ]
  },
  {
   "cell_type": "code",
   "execution_count": 55,
   "id": "136e73dd",
   "metadata": {},
   "outputs": [
    {
     "data": {
      "text/plain": [
       "0.04768075383002068"
      ]
     },
     "execution_count": 55,
     "metadata": {},
     "output_type": "execute_result"
    }
   ],
   "source": [
    "r2_2"
   ]
  },
  {
   "cell_type": "code",
   "execution_count": 56,
   "id": "6e100620",
   "metadata": {},
   "outputs": [
    {
     "data": {
      "text/html": [
       "<div>\n",
       "<style scoped>\n",
       "    .dataframe tbody tr th:only-of-type {\n",
       "        vertical-align: middle;\n",
       "    }\n",
       "\n",
       "    .dataframe tbody tr th {\n",
       "        vertical-align: top;\n",
       "    }\n",
       "\n",
       "    .dataframe thead th {\n",
       "        text-align: right;\n",
       "    }\n",
       "</style>\n",
       "<table border=\"1\" class=\"dataframe\">\n",
       "  <thead>\n",
       "    <tr style=\"text-align: right;\">\n",
       "      <th></th>\n",
       "      <th>Actual</th>\n",
       "      <th>Predicted</th>\n",
       "    </tr>\n",
       "  </thead>\n",
       "  <tbody>\n",
       "    <tr>\n",
       "      <th>0</th>\n",
       "      <td>11</td>\n",
       "      <td>6093.943598</td>\n",
       "    </tr>\n",
       "    <tr>\n",
       "      <th>1</th>\n",
       "      <td>12597</td>\n",
       "      <td>5566.181644</td>\n",
       "    </tr>\n",
       "    <tr>\n",
       "      <th>2</th>\n",
       "      <td>1672</td>\n",
       "      <td>2117.318637</td>\n",
       "    </tr>\n",
       "    <tr>\n",
       "      <th>3</th>\n",
       "      <td>238</td>\n",
       "      <td>6707.620290</td>\n",
       "    </tr>\n",
       "    <tr>\n",
       "      <th>4</th>\n",
       "      <td>779</td>\n",
       "      <td>5762.558185</td>\n",
       "    </tr>\n",
       "  </tbody>\n",
       "</table>\n",
       "</div>"
      ],
      "text/plain": [
       "   Actual    Predicted\n",
       "0      11  6093.943598\n",
       "1   12597  5566.181644\n",
       "2    1672  2117.318637\n",
       "3     238  6707.620290\n",
       "4     779  5762.558185"
      ]
     },
     "execution_count": 56,
     "metadata": {},
     "output_type": "execute_result"
    }
   ],
   "source": [
    "data2 = pd.DataFrame({'Actual': y2_test.flatten(), 'Predicted': y2_predicted.flatten()})\n",
    "data2.head()"
   ]
  },
  {
   "cell_type": "markdown",
   "id": "01c8e00c",
   "metadata": {},
   "source": [
    "Removing the zeros from the data set made the linear regression analysis slightly more accurate, however it is still not accurate enough to consider using. Some form of exponential analysis must be used for finding a pattern in this data and not a linear regression model. "
   ]
  },
  {
   "cell_type": "code",
   "execution_count": null,
   "id": "67ffdade",
   "metadata": {},
   "outputs": [],
   "source": []
  }
 ],
 "metadata": {
  "kernelspec": {
   "display_name": "Python 3 (ipykernel)",
   "language": "python",
   "name": "python3"
  },
  "language_info": {
   "codemirror_mode": {
    "name": "ipython",
    "version": 3
   },
   "file_extension": ".py",
   "mimetype": "text/x-python",
   "name": "python",
   "nbconvert_exporter": "python",
   "pygments_lexer": "ipython3",
   "version": "3.9.13"
  }
 },
 "nbformat": 4,
 "nbformat_minor": 5
}
